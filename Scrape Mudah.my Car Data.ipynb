{
 "cells": [
  {
   "cell_type": "markdown",
   "metadata": {},
   "source": [
    "# End to end Mudah Car Section web data scraping\n",
    "## Data consolidation/analysis and automated mailing to distribution list\n",
    "### Benefits\n",
    "- Impossible to manually scraped the entire website. Automated web scraping will help to do the manual work.\n",
    "- Pre-defined script to parse and analyze the data for high level reporting.\n",
    "- Can be automated to run in schedule (weekly/monthly/quarterly)\n",
    "- Help business to make decision with more frequent user generated data.\n",
    "\n",
    "#### Useful for market researcher, competitor"
   ]
  },
  {
   "cell_type": "markdown",
   "metadata": {},
   "source": [
    "### Bot Architecture/Flowchart"
   ]
  },
  {
   "cell_type": "code",
   "execution_count": 1,
   "metadata": {},
   "outputs": [
    {
     "data": {
      "image/png": "[encoded data removed]",
      "text/plain": [
       "<IPython.core.display.Image object>"
      ]
     },
     "execution_count": 1,
     "metadata": {},
     "output_type": "execute_result"
    }
   ],
   "source": [
    "from IPython.display import Image\n",
    "Image(filename='Flowchart.png') "
   ]
  },
  {
   "cell_type": "code",
   "execution_count": 2,
   "metadata": {},
   "outputs": [],
   "source": [
    "# !pip install tqdm\n",
    "# For progress bar\n",
    "\n",
    "# !pip install dominate\n",
    "# To generate html code\n",
    "\n",
    "# !pip install pdfkit\n",
    "# Conversion to pdf"
   ]
  },
  {
   "cell_type": "code",
   "execution_count": 3,
   "metadata": {},
   "outputs": [],
   "source": [
    "import requests\n",
    "from bs4 import BeautifulSoup\n",
    "import re\n",
    "import pandas as pd\n",
    "import numpy as np\n",
    "from tqdm import tqdm\n",
    "import json\n",
    "import matplotlib.pyplot as plt\n",
    "import matplotlib as mpl\n",
    "import seaborn as sns\n",
    "import dominate\n",
    "import pdfkit \n",
    "from datetime import datetime"
   ]
  },
  {
   "cell_type": "markdown",
   "metadata": {},
   "source": [
    "#### Define Parameters and formatting"
   ]
  },
  {
   "cell_type": "code",
   "execution_count": 4,
   "metadata": {},
   "outputs": [],
   "source": [
    "# To show all columns, not necessarily need to run\n",
    "pd.set_option('display.max_columns', None)\n",
    "# Number formatting to ease reading\n",
    "pd.options.display.float_format = \"{:,.2f}\".format\n",
    "\n",
    "datetoday = datetime.now().strftime(\"%Y%m%d\")\n",
    "\n",
    "# Set matplotlib/seaborn Style\n",
    "plt.style.use('seaborn-notebook')\n",
    "# sns.set_style(\"darkgrid\")\n",
    "# sns.set_style('ticks')\n",
    "# sns.set_style(\"whitegrid\")"
   ]
  },
  {
   "cell_type": "code",
   "execution_count": 5,
   "metadata": {},
   "outputs": [],
   "source": [
    "# For project purpose, here's a mock control DataFrame. In actual use case then just import the DataFrame\n",
    "control_list = {'Email List': ['aarontanx@gmail.com'], \n",
    "                'Salutation': ['Team'], \n",
    "                'Report Name': [''.join(['Mudah Car Report ', datetoday, '.pdf'])], \n",
    "                'Image Name': ['toyota_model_price.png']\n",
    "               }"
   ]
  },
  {
   "cell_type": "code",
   "execution_count": 6,
   "metadata": {},
   "outputs": [],
   "source": [
    "# Base URL (Car Category)\n",
    "url = 'https://www.mudah.my/list?category=1020&o=1&type=sell'\n",
    "request = requests.get(url)\n",
    "soup = BeautifulSoup(request.text, 'html')"
   ]
  },
  {
   "cell_type": "markdown",
   "metadata": {},
   "source": [
    "#### There are thousands of pages of data. It is impossible to capture all the data by hand"
   ]
  },
  {
   "cell_type": "code",
   "execution_count": 7,
   "metadata": {},
   "outputs": [
    {
     "name": "stdout",
     "output_type": "stream",
     "text": [
      "Total of 1964 pages\n"
     ]
    }
   ],
   "source": [
    "# Check how many pages are there\n",
    "searchResult = soup.find('div', attrs={\"data-testid\":\"search-result\"}).getText()\n",
    "pageCount = int(re.findall('of ([0-9]*)', searchResult)[0])\n",
    "print(f'Total of {pageCount} pages')"
   ]
  },
  {
   "cell_type": "code",
   "execution_count": 8,
   "metadata": {},
   "outputs": [],
   "source": [
    "# Initiate empty Data Frame to store scraped data\n",
    "df = pd.DataFrame(columns = ['Title', 'Price', 'Condition', 'Brand', 'Model', 'Type', 'Transmission', 'Capacity', 'Mileage', 'Manufacturing Year', 'URL'])"
   ]
  },
  {
   "cell_type": "markdown",
   "metadata": {},
   "source": [
    "And apparently mudah only allow access up to 250 pages. Anything > 250 will yield 'result not found'.\n",
    "\n",
    "It is going to take very long to run 250 pages so we will just run 10 pages instead"
   ]
  },
  {
   "cell_type": "code",
   "execution_count": 9,
   "metadata": {},
   "outputs": [],
   "source": [
    "pageToRun = 10"
   ]
  },
  {
   "cell_type": "code",
   "execution_count": 10,
   "metadata": {},
   "outputs": [
    {
     "name": "stderr",
     "output_type": "stream",
     "text": [
      "100%|██████████████████████████████████████████████████████████████████████████████████| 10/10 [01:35<00:00,  9.52s/it]\n"
     ]
    }
   ],
   "source": [
    "# Range 2nd value need to +1\n",
    "actualPageToRun = pageToRun+1\n",
    "\n",
    "for i in tqdm(range(1, actualPageToRun)):\n",
    "    # Loop through all the the pages\n",
    "    url = f'https://www.mudah.my/list?category=1020&o={i}&type=sell'\n",
    "    request = requests.get(url)\n",
    "    soup = BeautifulSoup(request.text, 'html')\n",
    "    \n",
    "    # Get all ads html subsection\n",
    "    adList = soup.findAll(\"div\", {\"data-testid\" : lambda L: L and L.startswith('listing-ad-item')})\n",
    "    \n",
    "    for item in adList:\n",
    "        newUrl = item.find('a').attrs['href']\n",
    "        newRequest = requests.get(newUrl)\n",
    "        newSoup = BeautifulSoup(newRequest.text, 'html')\n",
    "        \n",
    "        jsonCode = json.loads(newSoup.find('script', attrs={\"id\": \"__NEXT_DATA__\"}).contents[0])\n",
    "        dictId = list(jsonCode['props']['initialState']['adDetails']['byID'].keys())[0]\n",
    "        carTitle = jsonCode['props']['initialState']['adDetails']['byID'][dictId]['attributes']['subject']\n",
    "        finalJson = jsonCode['props']['initialState']['adDetails']['byID'][dictId]['attributes']['categoryParams']\n",
    "        carPrice = finalJson[0]['value']\n",
    "        carCondition = finalJson[3]['value']\n",
    "        carBrand = finalJson[4]['value']\n",
    "        carModel = finalJson[5]['value']\n",
    "        carType = finalJson[6]['value']\n",
    "        carTransmission = finalJson[7]['value']\n",
    "        carCapacity = finalJson[8]['value']\n",
    "        carMileage = finalJson[9]['value']\n",
    "        carMfgYear = finalJson[10]['value']\n",
    "        \n",
    "        \n",
    "        df = df.append({'Title':carTitle, \n",
    "                   'Price': carPrice,\n",
    "                   'Condition': carCondition,\n",
    "                   'Brand': carBrand,\n",
    "                   'Model': carModel,\n",
    "                   'Type': carType,\n",
    "                   'Transmission': carTransmission,\n",
    "                   'Capacity': carCapacity,\n",
    "                   'Mileage': carMileage,\n",
    "                   'Manufacturing Year': carMfgYear,\n",
    "                   'URL': newUrl\n",
    "                  },\n",
    "                 ignore_index=True)"
   ]
  },
  {
   "cell_type": "code",
   "execution_count": 11,
   "metadata": {},
   "outputs": [
    {
     "data": {
      "text/plain": [
       "(400, 11)"
      ]
     },
     "execution_count": 11,
     "metadata": {},
     "output_type": "execute_result"
    }
   ],
   "source": [
    "df.shape # To check the output size"
   ]
  },
  {
   "cell_type": "markdown",
   "metadata": {},
   "source": [
    "#### With the data scraped, we are able to do analysis/prediction, create HTML page, converting it to PDF and automate emailing to distribution list"
   ]
  },
  {
   "cell_type": "code",
   "execution_count": 12,
   "metadata": {
    "scrolled": true
   },
   "outputs": [],
   "source": [
    "df.to_excel(''.join(['Car Data ', datetoday, '.xlsx']))"
   ]
  },
  {
   "cell_type": "code",
   "execution_count": 13,
   "metadata": {},
   "outputs": [
    {
     "data": {
      "text/html": [
       "<div>\n",
       "<style scoped>\n",
       "    .dataframe tbody tr th:only-of-type {\n",
       "        vertical-align: middle;\n",
       "    }\n",
       "\n",
       "    .dataframe tbody tr th {\n",
       "        vertical-align: top;\n",
       "    }\n",
       "\n",
       "    .dataframe thead th {\n",
       "        text-align: right;\n",
       "    }\n",
       "</style>\n",
       "<table border=\"1\" class=\"dataframe\">\n",
       "  <thead>\n",
       "    <tr style=\"text-align: right;\">\n",
       "      <th></th>\n",
       "      <th>Title</th>\n",
       "      <th>Price</th>\n",
       "      <th>Condition</th>\n",
       "      <th>Brand</th>\n",
       "      <th>Model</th>\n",
       "      <th>Type</th>\n",
       "      <th>Transmission</th>\n",
       "      <th>Capacity</th>\n",
       "      <th>Mileage</th>\n",
       "      <th>Manufacturing Year</th>\n",
       "      <th>URL</th>\n",
       "    </tr>\n",
       "  </thead>\n",
       "  <tbody>\n",
       "    <tr>\n",
       "      <th>0</th>\n",
       "      <td>2017 Honda CIVIC TYPE R 2.0 FK8R GT SPEC (M)</td>\n",
       "      <td>RM 248 000</td>\n",
       "      <td>Recon</td>\n",
       "      <td>Honda</td>\n",
       "      <td>Civic</td>\n",
       "      <td>Hatchback</td>\n",
       "      <td>Manual</td>\n",
       "      <td>1996 cc</td>\n",
       "      <td>40 000 - 44 999</td>\n",
       "      <td>2017</td>\n",
       "      <td>https://www.mudah.my/2017+Honda+CIVIC+TYPE+R+2...</td>\n",
       "    </tr>\n",
       "    <tr>\n",
       "      <th>1</th>\n",
       "      <td>2018 Toyota HARRIER 2.0 GR Sport TURBO Japan U...</td>\n",
       "      <td>RM 219 800</td>\n",
       "      <td>Recon</td>\n",
       "      <td>Toyota</td>\n",
       "      <td>Harrier</td>\n",
       "      <td>SUVs</td>\n",
       "      <td>Auto</td>\n",
       "      <td>1998 cc</td>\n",
       "      <td>20 000 - 24 999</td>\n",
       "      <td>2018</td>\n",
       "      <td>https://www.mudah.my/2018+Toyota+HARRIER+2+0+G...</td>\n",
       "    </tr>\n",
       "    <tr>\n",
       "      <th>2</th>\n",
       "      <td>2020 Toyota ALPHARD 2.5 SC JBL F/SPEC JAPAN UNREG</td>\n",
       "      <td>RM 319 800</td>\n",
       "      <td>Recon</td>\n",
       "      <td>Toyota</td>\n",
       "      <td>Alphard</td>\n",
       "      <td>MPVs</td>\n",
       "      <td>Auto</td>\n",
       "      <td>2493 cc</td>\n",
       "      <td>15 000 - 19 999</td>\n",
       "      <td>2020</td>\n",
       "      <td>https://www.mudah.my/2020+Toyota+ALPHARD+2+5+S...</td>\n",
       "    </tr>\n",
       "    <tr>\n",
       "      <th>3</th>\n",
       "      <td>Toyota ALPHARD 3.5 GF LOCAL FSR U/WARRANTY 2023</td>\n",
       "      <td>RM 295 777</td>\n",
       "      <td>Used</td>\n",
       "      <td>Toyota</td>\n",
       "      <td>Alphard</td>\n",
       "      <td>MPVs</td>\n",
       "      <td>Auto</td>\n",
       "      <td>3456 cc</td>\n",
       "      <td>25 000 - 29 999</td>\n",
       "      <td>2018</td>\n",
       "      <td>https://www.mudah.my/Toyota+ALPHARD+3+5+GF+LOC...</td>\n",
       "    </tr>\n",
       "    <tr>\n",
       "      <th>4</th>\n",
       "      <td>2017 Mercedes Benz E200 AVANTGARDE 2.0 9G JAPAN</td>\n",
       "      <td>RM 229 800</td>\n",
       "      <td>Recon</td>\n",
       "      <td>Mercedes Benz</td>\n",
       "      <td>E200</td>\n",
       "      <td>Sedan</td>\n",
       "      <td>Auto</td>\n",
       "      <td>1991 cc</td>\n",
       "      <td>50 000 - 54 999</td>\n",
       "      <td>2017</td>\n",
       "      <td>https://www.mudah.my/2017+Mercedes+Benz+E200+A...</td>\n",
       "    </tr>\n",
       "  </tbody>\n",
       "</table>\n",
       "</div>"
      ],
      "text/plain": [
       "                                               Title       Price Condition  \\\n",
       "0       2017 Honda CIVIC TYPE R 2.0 FK8R GT SPEC (M)  RM 248 000     Recon   \n",
       "1  2018 Toyota HARRIER 2.0 GR Sport TURBO Japan U...  RM 219 800     Recon   \n",
       "2  2020 Toyota ALPHARD 2.5 SC JBL F/SPEC JAPAN UNREG  RM 319 800     Recon   \n",
       "3    Toyota ALPHARD 3.5 GF LOCAL FSR U/WARRANTY 2023  RM 295 777      Used   \n",
       "4    2017 Mercedes Benz E200 AVANTGARDE 2.0 9G JAPAN  RM 229 800     Recon   \n",
       "\n",
       "           Brand    Model       Type Transmission Capacity          Mileage  \\\n",
       "0          Honda    Civic  Hatchback       Manual  1996 cc  40 000 - 44 999   \n",
       "1         Toyota  Harrier       SUVs         Auto  1998 cc  20 000 - 24 999   \n",
       "2         Toyota  Alphard       MPVs         Auto  2493 cc  15 000 - 19 999   \n",
       "3         Toyota  Alphard       MPVs         Auto  3456 cc  25 000 - 29 999   \n",
       "4  Mercedes Benz     E200      Sedan         Auto  1991 cc  50 000 - 54 999   \n",
       "\n",
       "  Manufacturing Year                                                URL  \n",
       "0               2017  https://www.mudah.my/2017+Honda+CIVIC+TYPE+R+2...  \n",
       "1               2018  https://www.mudah.my/2018+Toyota+HARRIER+2+0+G...  \n",
       "2               2020  https://www.mudah.my/2020+Toyota+ALPHARD+2+5+S...  \n",
       "3               2018  https://www.mudah.my/Toyota+ALPHARD+3+5+GF+LOC...  \n",
       "4               2017  https://www.mudah.my/2017+Mercedes+Benz+E200+A...  "
      ]
     },
     "execution_count": 13,
     "metadata": {},
     "output_type": "execute_result"
    }
   ],
   "source": [
    "df.head()"
   ]
  },
  {
   "cell_type": "code",
   "execution_count": 14,
   "metadata": {},
   "outputs": [],
   "source": [
    "# Convert string price to float for analysis\n",
    "df['Price in Number'] = df['Price'].apply(lambda x: float(x[2:].replace(' ', '')))\n",
    "\n",
    "# Convert capacity to integer for analysis\n",
    "df['Capacity in Number'] = df['Capacity'].apply(lambda x: int(x[:len(x)-2].replace(' ', '')))\n"
   ]
  },
  {
   "cell_type": "code",
   "execution_count": 15,
   "metadata": {},
   "outputs": [
    {
     "data": {
      "image/png": "[encoded data removed]",
      "text/plain": [
       "<Figure size 1296x432 with 1 Axes>"
      ]
     },
     "metadata": {
      "needs_background": "light"
     },
     "output_type": "display_data"
    }
   ],
   "source": [
    "# Get average price for each brand\n",
    "brandSummary = df.groupby(['Brand']).mean('Price in Number').sort_values(by='Price in Number', ascending = False).reset_index()\n",
    "plt.figure(figsize=(18,6))\n",
    "plt.xticks(rotation=45)\n",
    "brandPricePlot = sns.barplot(data = brandSummary, x = 'Brand', y = 'Price in Number')\n",
    "brandPricePlot.yaxis.set_major_formatter(mpl.ticker.StrMethodFormatter('{x:,.0f}'))\n",
    "plt.title('Car Brand Average Price')\n",
    "plt.xlabel('Car Brand')\n",
    "plt.ylabel('Average Price (MYR)')\n",
    "plt.savefig('car_brand_avg_price.png')"
   ]
  },
  {
   "cell_type": "code",
   "execution_count": 16,
   "metadata": {},
   "outputs": [
    {
     "data": {
      "image/png": "[encoded data removed]",
      "text/plain": [
       "<Figure size 720x432 with 1 Axes>"
      ]
     },
     "metadata": {
      "needs_background": "light"
     },
     "output_type": "display_data"
    }
   ],
   "source": [
    "# Toyota Car Analysis\n",
    "# Car Type and Price\n",
    "toyotaData = df[df['Brand'] == 'Toyota'].copy()\n",
    "\n",
    "plt.figure(figsize=(10,6))\n",
    "plt.title('Toyota Car Type and Price Range')\n",
    "plt.xlabel('Car Price Range (MYR)')\n",
    "plt.ylabel('Listing Count')\n",
    "sns.histplot(data = toyotaData, x = 'Price in Number', hue= 'Type')\n",
    "\n",
    "plt.savefig('toyota_type_price.png')"
   ]
  },
  {
   "cell_type": "code",
   "execution_count": 17,
   "metadata": {},
   "outputs": [
    {
     "data": {
      "image/png": "[encoded data removed]",
      "text/plain": [
       "<Figure size 864x576 with 1 Axes>"
      ]
     },
     "metadata": {
      "needs_background": "light"
     },
     "output_type": "display_data"
    }
   ],
   "source": [
    "# Toyota Car Analysis\n",
    "\n",
    "plt.figure(figsize=(12,8))\n",
    "plt.title('Toyota Car Model and Price Range')\n",
    "plt.xlabel('Car Price Range (MYR)')\n",
    "plt.ylabel('Listing Count')\n",
    "sns.histplot(data = toyotaData, x = 'Price in Number', hue= 'Model')\n",
    "\n",
    "plt.savefig('toyota_model_price.png')"
   ]
  },
  {
   "cell_type": "code",
   "execution_count": 18,
   "metadata": {},
   "outputs": [],
   "source": [
    "# Summarize Car Brand with their price and capacity\n",
    "brandPriceStat = df[['Brand', 'Price in Number']].rename({'Price in Number': 'Price'}).groupby('Brand').describe()\n",
    "brandCapacityStat = df[['Brand', 'Capacity in Number']].rename({'Capacity in Number': 'Capacity'}).groupby('Brand').describe()"
   ]
  },
  {
   "cell_type": "code",
   "execution_count": 19,
   "metadata": {},
   "outputs": [
    {
     "data": {
      "text/html": [
       "<div>\n",
       "<style scoped>\n",
       "    .dataframe tbody tr th:only-of-type {\n",
       "        vertical-align: middle;\n",
       "    }\n",
       "\n",
       "    .dataframe tbody tr th {\n",
       "        vertical-align: top;\n",
       "    }\n",
       "\n",
       "    .dataframe thead tr th {\n",
       "        text-align: left;\n",
       "    }\n",
       "\n",
       "    .dataframe thead tr:last-of-type th {\n",
       "        text-align: right;\n",
       "    }\n",
       "</style>\n",
       "<table border=\"1\" class=\"dataframe\">\n",
       "  <thead>\n",
       "    <tr>\n",
       "      <th></th>\n",
       "      <th colspan=\"8\" halign=\"left\">Price in Number</th>\n",
       "    </tr>\n",
       "    <tr>\n",
       "      <th></th>\n",
       "      <th>count</th>\n",
       "      <th>mean</th>\n",
       "      <th>std</th>\n",
       "      <th>min</th>\n",
       "      <th>25%</th>\n",
       "      <th>50%</th>\n",
       "      <th>75%</th>\n",
       "      <th>max</th>\n",
       "    </tr>\n",
       "    <tr>\n",
       "      <th>Brand</th>\n",
       "      <th></th>\n",
       "      <th></th>\n",
       "      <th></th>\n",
       "      <th></th>\n",
       "      <th></th>\n",
       "      <th></th>\n",
       "      <th></th>\n",
       "      <th></th>\n",
       "    </tr>\n",
       "  </thead>\n",
       "  <tbody>\n",
       "    <tr>\n",
       "      <th>Audi</th>\n",
       "      <td>4.00</td>\n",
       "      <td>199,375.00</td>\n",
       "      <td>203,136.18</td>\n",
       "      <td>59,900.00</td>\n",
       "      <td>82,325.00</td>\n",
       "      <td>119,300.00</td>\n",
       "      <td>236,350.00</td>\n",
       "      <td>499,000.00</td>\n",
       "    </tr>\n",
       "    <tr>\n",
       "      <th>BMW</th>\n",
       "      <td>9.00</td>\n",
       "      <td>186,108.44</td>\n",
       "      <td>122,813.40</td>\n",
       "      <td>28,000.00</td>\n",
       "      <td>91,800.00</td>\n",
       "      <td>166,000.00</td>\n",
       "      <td>235,800.00</td>\n",
       "      <td>428,000.00</td>\n",
       "    </tr>\n",
       "    <tr>\n",
       "      <th>Bentley</th>\n",
       "      <td>2.00</td>\n",
       "      <td>668,000.00</td>\n",
       "      <td>254,558.44</td>\n",
       "      <td>488,000.00</td>\n",
       "      <td>578,000.00</td>\n",
       "      <td>668,000.00</td>\n",
       "      <td>758,000.00</td>\n",
       "      <td>848,000.00</td>\n",
       "    </tr>\n",
       "    <tr>\n",
       "      <th>Chevrolet</th>\n",
       "      <td>1.00</td>\n",
       "      <td>27,500.00</td>\n",
       "      <td>NaN</td>\n",
       "      <td>27,500.00</td>\n",
       "      <td>27,500.00</td>\n",
       "      <td>27,500.00</td>\n",
       "      <td>27,500.00</td>\n",
       "      <td>27,500.00</td>\n",
       "    </tr>\n",
       "    <tr>\n",
       "      <th>Citroen</th>\n",
       "      <td>1.00</td>\n",
       "      <td>26,800.00</td>\n",
       "      <td>NaN</td>\n",
       "      <td>26,800.00</td>\n",
       "      <td>26,800.00</td>\n",
       "      <td>26,800.00</td>\n",
       "      <td>26,800.00</td>\n",
       "      <td>26,800.00</td>\n",
       "    </tr>\n",
       "  </tbody>\n",
       "</table>\n",
       "</div>"
      ],
      "text/plain": [
       "          Price in Number                                              \\\n",
       "                    count       mean        std        min        25%   \n",
       "Brand                                                                   \n",
       "Audi                 4.00 199,375.00 203,136.18  59,900.00  82,325.00   \n",
       "BMW                  9.00 186,108.44 122,813.40  28,000.00  91,800.00   \n",
       "Bentley              2.00 668,000.00 254,558.44 488,000.00 578,000.00   \n",
       "Chevrolet            1.00  27,500.00        NaN  27,500.00  27,500.00   \n",
       "Citroen              1.00  26,800.00        NaN  26,800.00  26,800.00   \n",
       "\n",
       "                                            \n",
       "                 50%        75%        max  \n",
       "Brand                                       \n",
       "Audi      119,300.00 236,350.00 499,000.00  \n",
       "BMW       166,000.00 235,800.00 428,000.00  \n",
       "Bentley   668,000.00 758,000.00 848,000.00  \n",
       "Chevrolet  27,500.00  27,500.00  27,500.00  \n",
       "Citroen    26,800.00  26,800.00  26,800.00  "
      ]
     },
     "execution_count": 19,
     "metadata": {},
     "output_type": "execute_result"
    }
   ],
   "source": [
    "brandPriceStat.head()"
   ]
  },
  {
   "cell_type": "code",
   "execution_count": 20,
   "metadata": {},
   "outputs": [
    {
     "data": {
      "text/html": [
       "<div>\n",
       "<style scoped>\n",
       "    .dataframe tbody tr th:only-of-type {\n",
       "        vertical-align: middle;\n",
       "    }\n",
       "\n",
       "    .dataframe tbody tr th {\n",
       "        vertical-align: top;\n",
       "    }\n",
       "\n",
       "    .dataframe thead tr th {\n",
       "        text-align: left;\n",
       "    }\n",
       "\n",
       "    .dataframe thead tr:last-of-type th {\n",
       "        text-align: right;\n",
       "    }\n",
       "</style>\n",
       "<table border=\"1\" class=\"dataframe\">\n",
       "  <thead>\n",
       "    <tr>\n",
       "      <th></th>\n",
       "      <th colspan=\"8\" halign=\"left\">Capacity in Number</th>\n",
       "    </tr>\n",
       "    <tr>\n",
       "      <th></th>\n",
       "      <th>count</th>\n",
       "      <th>mean</th>\n",
       "      <th>std</th>\n",
       "      <th>min</th>\n",
       "      <th>25%</th>\n",
       "      <th>50%</th>\n",
       "      <th>75%</th>\n",
       "      <th>max</th>\n",
       "    </tr>\n",
       "    <tr>\n",
       "      <th>Brand</th>\n",
       "      <th></th>\n",
       "      <th></th>\n",
       "      <th></th>\n",
       "      <th></th>\n",
       "      <th></th>\n",
       "      <th></th>\n",
       "      <th></th>\n",
       "      <th></th>\n",
       "    </tr>\n",
       "  </thead>\n",
       "  <tbody>\n",
       "    <tr>\n",
       "      <th>Audi</th>\n",
       "      <td>4.00</td>\n",
       "      <td>2,017.50</td>\n",
       "      <td>633.33</td>\n",
       "      <td>1,395.00</td>\n",
       "      <td>1,697.25</td>\n",
       "      <td>1,891.00</td>\n",
       "      <td>2,211.25</td>\n",
       "      <td>2,893.00</td>\n",
       "    </tr>\n",
       "    <tr>\n",
       "      <th>BMW</th>\n",
       "      <td>9.00</td>\n",
       "      <td>2,217.44</td>\n",
       "      <td>502.99</td>\n",
       "      <td>1,499.00</td>\n",
       "      <td>1,997.00</td>\n",
       "      <td>1,998.00</td>\n",
       "      <td>2,494.00</td>\n",
       "      <td>2,998.00</td>\n",
       "    </tr>\n",
       "    <tr>\n",
       "      <th>Bentley</th>\n",
       "      <td>2.00</td>\n",
       "      <td>4,995.50</td>\n",
       "      <td>1,417.75</td>\n",
       "      <td>3,993.00</td>\n",
       "      <td>4,494.25</td>\n",
       "      <td>4,995.50</td>\n",
       "      <td>5,496.75</td>\n",
       "      <td>5,998.00</td>\n",
       "    </tr>\n",
       "    <tr>\n",
       "      <th>Chevrolet</th>\n",
       "      <td>1.00</td>\n",
       "      <td>1,998.00</td>\n",
       "      <td>NaN</td>\n",
       "      <td>1,998.00</td>\n",
       "      <td>1,998.00</td>\n",
       "      <td>1,998.00</td>\n",
       "      <td>1,998.00</td>\n",
       "      <td>1,998.00</td>\n",
       "    </tr>\n",
       "    <tr>\n",
       "      <th>Citroen</th>\n",
       "      <td>1.00</td>\n",
       "      <td>1,598.00</td>\n",
       "      <td>NaN</td>\n",
       "      <td>1,598.00</td>\n",
       "      <td>1,598.00</td>\n",
       "      <td>1,598.00</td>\n",
       "      <td>1,598.00</td>\n",
       "      <td>1,598.00</td>\n",
       "    </tr>\n",
       "  </tbody>\n",
       "</table>\n",
       "</div>"
      ],
      "text/plain": [
       "          Capacity in Number                                               \\\n",
       "                       count     mean      std      min      25%      50%   \n",
       "Brand                                                                       \n",
       "Audi                    4.00 2,017.50   633.33 1,395.00 1,697.25 1,891.00   \n",
       "BMW                     9.00 2,217.44   502.99 1,499.00 1,997.00 1,998.00   \n",
       "Bentley                 2.00 4,995.50 1,417.75 3,993.00 4,494.25 4,995.50   \n",
       "Chevrolet               1.00 1,998.00      NaN 1,998.00 1,998.00 1,998.00   \n",
       "Citroen                 1.00 1,598.00      NaN 1,598.00 1,598.00 1,598.00   \n",
       "\n",
       "                             \n",
       "               75%      max  \n",
       "Brand                        \n",
       "Audi      2,211.25 2,893.00  \n",
       "BMW       2,494.00 2,998.00  \n",
       "Bentley   5,496.75 5,998.00  \n",
       "Chevrolet 1,998.00 1,998.00  \n",
       "Citroen   1,598.00 1,598.00  "
      ]
     },
     "execution_count": 20,
     "metadata": {},
     "output_type": "execute_result"
    }
   ],
   "source": [
    "brandCapacityStat.head()"
   ]
  },
  {
   "cell_type": "code",
   "execution_count": 21,
   "metadata": {},
   "outputs": [],
   "source": [
    "# Convert Dataframe to html format\n",
    "brandPriceStathtml = brandPriceStat.to_html()\n",
    "brandCapacityStathtml = brandCapacityStat.to_html()"
   ]
  },
  {
   "cell_type": "code",
   "execution_count": 22,
   "metadata": {},
   "outputs": [],
   "source": [
    "from dominate.tags import *\n",
    "from dominate.util import raw\n",
    "\n",
    "title = \"Car Listing Report \" + str(datetoday)\n",
    "doc = dominate.document(title=title)\n",
    "\n",
    "with doc.head:\n",
    "    link(rel='stylesheet', href='style.css')\n",
    "    script(type='scripts/javascript', src='script.js')\n",
    "\n",
    "with doc:\n",
    "    with div(id=\"header\"):\n",
    "        attr(cls='body')\n",
    "        img(src='https://upload.wikimedia.org/wikipedia/commons/c/c2/Mudah.my_Sdn_Bhd_Logo_%28as_of_2014%29.jpg', alt='mudah logo')\n",
    "        h1(title)\n",
    "        \n",
    "    with div(id=\"carprice\"):\n",
    "        attr(cls='body')\n",
    "        img(src='car_brand_avg_price.png', alt='car_brand_avg_price',style=\"width:1200px;height:400px;\")\n",
    "        \n",
    "    with div(id=\"carbrandstat\"):\n",
    "        attr(cls='body')\n",
    "        h1('Car Brand Stats')\n",
    "        h2('Price')\n",
    "        raw(brandPriceStathtml)\n",
    "        br()\n",
    "        br()\n",
    "        br()\n",
    "        h2('Capacity')\n",
    "        raw(brandCapacityStathtml)\n",
    "        \n",
    "        \n",
    "    with div(id=\"ToyotaAnalysis\"):\n",
    "        attr(cls='body')\n",
    "        h1('Toyota Analysis')\n",
    "        img(src='toyota_type_price.png', alt='toyota type price')\n",
    "\n",
    "with open(''.join(['Mudah Car Report ', datetoday, '.html']), 'w') as f:\n",
    "    f.write(doc.render())"
   ]
  },
  {
   "cell_type": "markdown",
   "metadata": {},
   "source": [
    "#### With the HTML created, we can generate PDF Report to send out"
   ]
  },
  {
   "cell_type": "code",
   "execution_count": 23,
   "metadata": {},
   "outputs": [
    {
     "name": "stdout",
     "output_type": "stream",
     "text": [
      "Loading pages (1/6)\r\n",
      "[>                                                           ] 0%\r",
      "[======>                                                     ] 10%\r",
      "[==========>                                                 ] 18%\r",
      "Warning: Failed to load file:///D:/Google Drive/BlackBelt/Project/Bot/style.css (ignore)\r\n",
      "[=================>                                          ] 29%\r",
      "[======================>                                     ] 37%\r",
      "[========================>                                   ] 40%\r",
      "[==========================>                                 ] 44%\r",
      "[============================================================] 100%\r",
      "Counting pages (2/6)                                               \r\n",
      "[============================================================] Object 1 of 1\r",
      "Resolving links (4/6)                                                       \r\n",
      "[============================================================] Object 1 of 1\r",
      "Loading headers and footers (5/6)                                           \r\n",
      "Printing pages (6/6)\r\n",
      "[>                                                           ] Preparing\r",
      "[==============================>                             ] Page 1 of 2\r",
      "[============================================================] Page 2 of 2\r",
      "Done                                                                      \r\n"
     ]
    },
    {
     "data": {
      "text/plain": [
       "True"
      ]
     },
     "execution_count": 23,
     "metadata": {},
     "output_type": "execute_result"
    }
   ],
   "source": [
    "path_wkhtmltopdf = r'C:\\Program Files\\wkhtmltopdf\\bin\\wkhtmltopdf.exe'\n",
    "config = pdfkit.configuration(wkhtmltopdf=path_wkhtmltopdf)\n",
    "\n",
    "options = {\n",
    "  \"enable-local-file-access\": None\n",
    "}\n",
    "\n",
    "pdfkit.from_file(''.join(['Mudah Car Report ', datetoday, '.html']), ''.join(['Mudah Car Report ', datetoday, '.pdf']), configuration=config, options= options) "
   ]
  },
  {
   "cell_type": "markdown",
   "metadata": {},
   "source": [
    "#### Send out as an email"
   ]
  },
  {
   "cell_type": "code",
   "execution_count": 24,
   "metadata": {},
   "outputs": [],
   "source": [
    "email_subject = ''.join([\"Mudah car price report \", datetoday])\n",
    "email_body = \"\"\"\\\n",
    "<html>\n",
    "  <head></head>\n",
    "  <body>\n",
    "    <p>\n",
    "        Hi Team, <br>\n",
    "    <br>\n",
    "        Attached is Mudah's Car Price report for today.<br>\n",
    "    <br>\n",
    "        Toyota Car Model with their price range.\n",
    "    <br>\n",
    "        <img src=\"cid:image0\" alt=\"image\"><br>\n",
    "    <br>\n",
    "        Regards, <br>\n",
    "        Automation Bot <br>\n",
    "    </p>\n",
    "  </body>\n",
    "</html>\n",
    "\"\"\""
   ]
  },
  {
   "cell_type": "code",
   "execution_count": 25,
   "metadata": {},
   "outputs": [],
   "source": [
    "def generate_email(sender, email_list, subject, body, salutation, attachment, image):\n",
    "    \n",
    "    from email.mime.multipart import MIMEMultipart\n",
    "    from email.mime.text import MIMEText\n",
    "    from email.mime.image import MIMEImage\n",
    "    from email.mime.application import MIMEApplication\n",
    "    import os\n",
    "    \n",
    "    message = MIMEMultipart()\n",
    "    message['From'] = sender\n",
    "    message['To'] = email_list\n",
    "    message['Subject'] = subject\n",
    "    body = body.replace(\"$(salutation)\", salutation)\n",
    "    message.attach(MIMEText(body, 'html'))\n",
    "    \n",
    "    # Add attachment\n",
    "    attachment_file = open(attachment, 'rb')\n",
    "    file = MIMEApplication(attachment_file.read(), name=os.path.basename(attachment))\n",
    "    file['Content-Disposition'] = f'attachment; filename=\"{os.path.basename(attachment)}\"'\n",
    "    message.attach(file)\n",
    "    \n",
    "#     Add image\n",
    "    img = open(image, 'rb')\n",
    "    msgImage = MIMEImage(img.read())\n",
    "    img.close()\n",
    "    msgImage.add_header('Content-ID', '<image0>')\n",
    "    message.attach(msgImage)\n",
    "    \n",
    "    message_str = message.as_string()\n",
    "    \n",
    "    return message_str\n",
    "\n",
    "def send_email(sender, password, email_list, email):\n",
    "    \n",
    "    import smtplib\n",
    "    \n",
    "    session = smtplib.SMTP('smtp.gmail.com', 587)  \n",
    "    session.starttls() \n",
    "    session.login(sender, password) \n",
    "    to_list = email_list.split(\",\")\n",
    "    \n",
    "    session.sendmail(sender, to_list, email)\n",
    "    session.quit()"
   ]
  },
  {
   "cell_type": "code",
   "execution_count": 26,
   "metadata": {},
   "outputs": [
    {
     "name": "stdout",
     "output_type": "stream",
     "text": [
      "Email Sent to aarontanx@gmail.com\n"
     ]
    }
   ],
   "source": [
    "sender_email = '***'\n",
    "sender_password = '***'\n",
    "control_list = pd.DataFrame(control_list)\n",
    "\n",
    "for i, control in control_list.iterrows():\n",
    "    email = generate_email(sender_email, \n",
    "                          control[\"Email List\"], \n",
    "                          email_subject, \n",
    "                          email_body, \n",
    "                          control[\"Salutation\"], \n",
    "                          control[\"Report Name\"],\n",
    "                          control[\"Image Name\"])\n",
    "    send_email(sender_email, sender_password, control[\"Email List\"], email)\n",
    "    \n",
    "    print('Email Sent to ' + control[\"Email List\"])"
   ]
  },
  {
   "cell_type": "markdown",
   "metadata": {},
   "source": [
    "### Further enhancement\n",
    "- Can automate it to run monthly using task scheduler\n",
    "- HTML generated can be hosted in intranet site for internal consumption instead of spamming emails\n",
    "- Archive exported raw file to cloud storage\n",
    "- Scrape from other sites that list similar product. Can aggregate to get a better picture of the used-car market"
   ]
  },
  {
   "cell_type": "code",
   "execution_count": null,
   "metadata": {},
   "outputs": [],
   "source": []
  }
 ],
 "metadata": {
  "kernelspec": {
   "display_name": "myenv",
   "language": "python",
   "name": "myenv"
  },
  "language_info": {
   "codemirror_mode": {
    "name": "ipython",
    "version": 3
   },
   "file_extension": ".py",
   "mimetype": "text/x-python",
   "name": "python",
   "nbconvert_exporter": "python",
   "pygments_lexer": "ipython3",
   "version": "3.9.6"
  }
 },
 "nbformat": 4,
 "nbformat_minor": 4
}
